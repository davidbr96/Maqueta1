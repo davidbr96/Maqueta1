{
  "nbformat": 4,
  "nbformat_minor": 0,
  "metadata": {
    "colab": {
      "provenance": [],
      "authorship_tag": "ABX9TyOYWx11HsaQiUF/nnZQhi9H",
      "include_colab_link": true
    },
    "kernelspec": {
      "name": "python3",
      "display_name": "Python 3"
    },
    "language_info": {
      "name": "python"
    }
  },
  "cells": [
    {
      "cell_type": "markdown",
      "metadata": {
        "id": "view-in-github",
        "colab_type": "text"
      },
      "source": [
        "<a href=\"https://colab.research.google.com/github/davidbr96/Maqueta1/blob/main/Untitled0.ipynb\" target=\"_parent\"><img src=\"https://colab.research.google.com/assets/colab-badge.svg\" alt=\"Open In Colab\"/></a>"
      ]
    },
    {
      "cell_type": "code",
      "execution_count": null,
      "metadata": {
        "id": "kff0o-xvYjcr"
      },
      "outputs": [],
      "source": []
    },
    {
      "cell_type": "markdown",
      "source": [
        "###Esta es la muestra de GOOGLE COLAB\n",
        "#### Yo soy David Barrón Román\n",
        "\n",
        "<img src=\"https://depor.com/resizer/01mWfti86OhtnYiNwgoonXC5nfY=/620x0/smart/filters:format(jpeg):quality(75)/cloudfront-us-east-1.images.arcpublishing.com/elcomercio/Z2A7UQHFAREMFG6Z2HY32VC52Y.jpg\">"
      ],
      "metadata": {
        "id": "MInnWXyOYj95"
      }
    }
  ]
}